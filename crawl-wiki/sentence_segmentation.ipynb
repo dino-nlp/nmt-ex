{
 "cells": [
  {
   "cell_type": "markdown",
   "metadata": {},
   "source": [
    "# Sentence segmentation"
   ]
  },
  {
   "cell_type": "markdown",
   "metadata": {},
   "source": [
    "### Vietnamese\n",
    "\n",
    "```bash\n",
    "pip install VFastPunct\n",
    "pip install underthesea\n",
    "\n",
    "```"
   ]
  },
  {
   "cell_type": "code",
   "execution_count": 11,
   "metadata": {},
   "outputs": [
    {
     "name": "stderr",
     "output_type": "stream",
     "text": [
      "/Users/ngohongthai/miniconda3/envs/nmt/lib/python3.10/site-packages/tqdm/auto.py:21: TqdmWarning: IProgress not found. Please update jupyter and ipywidgets. See https://ipywidgets.readthedocs.io/en/stable/user_install.html\n",
      "  from .autonotebook import tqdm as notebook_tqdm\n"
     ]
    }
   ],
   "source": [
    "from underthesea import sent_tokenize\n",
    "from vfastpunct import VFastPunct\n",
    "\n",
    "text = \"\"\"Trên tài khoản mạng xã hội cá nhân, nữ diễn viên Massiel Taveras (39 tuổi) không đề cập trực tiếp tới sự việc của mình Cô chỉ chia sẻ lại những bài báo đề cập tới cách hành xử của nữ diễn viên kiêm ca sĩ người Mỹ Kelly Rowland Trước đó, Rowland cũng đã xảy ra va chạm với một nữ nhân viên thảm đỏ ở LHP Cannes\n",
    "Khi chia sẻ lại các bài báo này Massiel Taveras đã gọi Kelly Rowland là \"nữ hoàng\" và khẳng định: \"Chúng tôi cần được tôn trọng\"\n",
    "\"\"\""
   ]
  },
  {
   "cell_type": "code",
   "execution_count": 19,
   "metadata": {},
   "outputs": [],
   "source": [
    "# punct = VFastPunct(model_name='mBertPunct')\n",
    "# punctuated_text = punct(text)"
   ]
  },
  {
   "cell_type": "code",
   "execution_count": 21,
   "metadata": {},
   "outputs": [],
   "source": [
    "# from vfastpunct import VFastPunct\n",
    "# punct = VFastPunct(model_name='mBertPunctCap', no_cuda=False)\n",
    "# punct('việt nam quốc hiệu chính thức là cộng hòa xã hội chủ nghĩa việt nam là một quốc gia nằm ở cực đông của bán đảo đông dương thuộc khu vực đông nam á giáp với lào campuchia trung quốc biển đông và vịnh thái lan')\n",
    "# 'Việt Nam quốc hiệu chính thức là Cộng hòa Xã hội chủ nghĩa Việt Nam, là một quốc gia nằm ở cực Đông của bán đảo Đông Dương, thuộc khu vực Đông Nam Á, giáp với Lào, Campuchia, Trung Quốc, Biển Đông và Vịnh Thái Lan.'"
   ]
  },
  {
   "cell_type": "code",
   "execution_count": 22,
   "metadata": {},
   "outputs": [
    {
     "data": {
      "text/plain": [
       "['Trên tài khoản mạng xã hội cá nhân, nữ diễn viên Massiel Taveras (39 tuổi) không đề cập trực tiếp tới sự việc của mình Cô chỉ chia sẻ lại những bài báo đề cập tới cách hành xử của nữ diễn viên kiêm ca sĩ người Mỹ Kelly Rowland Trước đó, Rowland cũng đã xảy ra va chạm với một nữ nhân viên thảm đỏ ở LHP Cannes\\nKhi chia sẻ lại các bài báo này Massiel Taveras đã gọi Kelly Rowland là \"nữ hoàng\" và khẳng định: \"Chúng tôi cần được tôn trọng\"']"
      ]
     },
     "execution_count": 22,
     "metadata": {},
     "output_type": "execute_result"
    }
   ],
   "source": [
    "sent_tokenize(text)"
   ]
  },
  {
   "cell_type": "code",
   "execution_count": 52,
   "metadata": {},
   "outputs": [],
   "source": [
    "# !pip install spacy\n",
    "# !python -m spacy download xx_sent_ud_sm\n",
    "# !python -m spacy download xx_ent_wiki_sm"
   ]
  },
  {
   "cell_type": "code",
   "execution_count": 50,
   "metadata": {},
   "outputs": [
    {
     "name": "stdout",
     "output_type": "stream",
     "text": [
      "===\n",
      "Trên tài khoản mạng xã hội cá nhân, nữ diễn viên Massiel Taveras (39 tuổi) không đề cập trực tiếp tới sự việc của mình Cô chỉ chia sẻ lại những bài báo đề cập tới cách hành xử của nữ diễn viên kiêm ca sĩ người Mỹ Kelly Rowland Trước đó, Rowland cũng đã xảy ra va chạm với một nữ nhân viên thảm đỏ ở LHP Cannes\n",
      "Khi chia sẻ lại các bài báo này Massiel Taveras đã gọi Kelly Rowland là \"nữ hoàng\" và khẳng định: \"Chúng tôi cần được tôn trọng\"\n",
      "\n"
     ]
    }
   ],
   "source": [
    "import spacy\n",
    "# Load the appropriate model\n",
    "nlp = spacy.load(\"xx_sent_ud_sm\")  # Replace with your desired model\n",
    "nlp.add_pipe(\"sentencizer\")\n",
    "# Process the text\n",
    "doc = nlp(text)\n",
    "# Iterate through sentences\n",
    "for sent in doc.sents:\n",
    "    print(\"===\")\n",
    "    print(sent.text)\n"
   ]
  },
  {
   "cell_type": "code",
   "execution_count": null,
   "metadata": {},
   "outputs": [],
   "source": [
    "import xx_ent_wiki_sm\n",
    "nlp = xx_ent_wiki_sm.load()\n",
    "nlp.add_pipe(\"sentencizer\")\n",
    "doc = nlp(text)\n",
    "\n",
    "for sent in doc.sents:\n",
    "    print(\"====\")\n",
    "    print(sent.text)"
   ]
  },
  {
   "cell_type": "code",
   "execution_count": null,
   "metadata": {},
   "outputs": [],
   "source": []
  }
 ],
 "metadata": {
  "kernelspec": {
   "display_name": "nmt",
   "language": "python",
   "name": "python3"
  },
  "language_info": {
   "codemirror_mode": {
    "name": "ipython",
    "version": 3
   },
   "file_extension": ".py",
   "mimetype": "text/x-python",
   "name": "python",
   "nbconvert_exporter": "python",
   "pygments_lexer": "ipython3",
   "version": "3.10.12"
  }
 },
 "nbformat": 4,
 "nbformat_minor": 2
}
