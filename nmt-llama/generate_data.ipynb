{
 "cells": [
  {
   "cell_type": "code",
   "execution_count": 19,
   "metadata": {},
   "outputs": [],
   "source": [
    "from ollama import generate\n",
    "from ollama import chat\n",
    "import re"
   ]
  },
  {
   "cell_type": "markdown",
   "metadata": {},
   "source": [
    "The initial release of Llama 3 includes two sizes:\n",
    "- 8B Parameters ollama run llama3:8b\n",
    "- 70B Parameters ollama run llama3:70b"
   ]
  },
  {
   "cell_type": "markdown",
   "metadata": {},
   "source": [
    "## Prompt: Make sentences"
   ]
  },
  {
   "cell_type": "code",
   "execution_count": 20,
   "metadata": {},
   "outputs": [],
   "source": [
    "proper_noun = [\"Thái\", \"Mai\"]"
   ]
  },
  {
   "cell_type": "code",
   "execution_count": 21,
   "metadata": {},
   "outputs": [],
   "source": [
    "def make_sentences_prompt_for_name(proper_noun, source_lang, target_lang, num_sentence):\n",
    "    prompt = f\"\"\"\n",
    "        Generate {num_sentence} sets of data for neutral machine translation. Each set should contain:\n",
    "        A proper noun word \"{proper_noun}\" as a name of person.\n",
    "        A sentence in {source_lang} using that name,\n",
    "        Translate the sentence to {target_lang}.\n",
    "        Expected output will be: sentence in {source_lang} | sentence in {target_lang}\n",
    "        \"\"\"\n",
    "    return prompt"
   ]
  },
  {
   "cell_type": "code",
   "execution_count": 22,
   "metadata": {},
   "outputs": [
    {
     "data": {
      "text/plain": [
       "'\\n        Generate 10 sets of data for neutral machine translation. Each set should contain:\\n        A proper noun word \"Thai\".\\n        A sentence in Vietnamese using that word.\\n        Translate the sentence to English.\\n        Expected output will be: |Thai | sentence in Vietnamese | sentence in English |\\n        '"
      ]
     },
     "execution_count": 22,
     "metadata": {},
     "output_type": "execute_result"
    }
   ],
   "source": [
    "make_sentences_prompt(\"Thai\", \"Vietnamese\", \"English\", 10)"
   ]
  },
  {
   "cell_type": "code",
   "execution_count": 24,
   "metadata": {},
   "outputs": [],
   "source": [
    "response = chat(model=\"llama3\", messages=[\n",
    "    {\n",
    "        'role': 'user',\n",
    "        'content': make_sentences_prompt(\"Thai\", \"Vietnamese\", \"English\", 10)\n",
    "    }\n",
    "])\n"
   ]
  },
  {
   "cell_type": "code",
   "execution_count": 27,
   "metadata": {},
   "outputs": [],
   "source": [
    "result = response['message']['content']\n",
    "\n",
    "# Regular expression pattern to match relevant lines\n",
    "pattern = r'\\| Thai \\| \"(.+?)\" \\| (.+?) \\|$'\n",
    "\n",
    "# Find all the matches within the text\n",
    "matches = re.findall(pattern, result)\n",
    "\n",
    "# Extract the Thai and English sentences\n",
    "for thai_sentence, english_sentence in matches:\n",
    "    print(f\"| Thai | {thai_sentence} | {english_sentence} |\")"
   ]
  },
  {
   "cell_type": "code",
   "execution_count": null,
   "metadata": {},
   "outputs": [],
   "source": []
  }
 ],
 "metadata": {
  "language_info": {
   "name": "python"
  }
 },
 "nbformat": 4,
 "nbformat_minor": 2
}
